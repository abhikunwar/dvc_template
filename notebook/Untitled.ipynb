{
 "cells": [
  {
   "cell_type": "code",
   "execution_count": 1,
   "id": "c2f1e830",
   "metadata": {},
   "outputs": [],
   "source": [
    "import pandas as pd\n",
    "import numpy as np\n",
    "from scipy.sparse import csr_matrix\n",
    "import scipy"
   ]
  },
  {
   "cell_type": "code",
   "execution_count": 2,
   "id": "c0d420fa",
   "metadata": {},
   "outputs": [],
   "source": [
    "df = pd.read_csv(\"../artifacts/prepare/train.tsv\",sep = \"\\t\",names=[\"id\",\"label\",\"text\"],encoding=\"utf8\")"
   ]
  },
  {
   "cell_type": "code",
   "execution_count": 3,
   "id": "638f1048",
   "metadata": {},
   "outputs": [
    {
     "data": {
      "text/html": [
       "<div>\n",
       "<style scoped>\n",
       "    .dataframe tbody tr th:only-of-type {\n",
       "        vertical-align: middle;\n",
       "    }\n",
       "\n",
       "    .dataframe tbody tr th {\n",
       "        vertical-align: top;\n",
       "    }\n",
       "\n",
       "    .dataframe thead th {\n",
       "        text-align: right;\n",
       "    }\n",
       "</style>\n",
       "<table border=\"1\" class=\"dataframe\">\n",
       "  <thead>\n",
       "    <tr style=\"text-align: right;\">\n",
       "      <th></th>\n",
       "      <th>id</th>\n",
       "      <th>label</th>\n",
       "      <th>text</th>\n",
       "    </tr>\n",
       "  </thead>\n",
       "  <tbody>\n",
       "    <tr>\n",
       "      <th>0</th>\n",
       "      <td>4186249</td>\n",
       "      <td>1</td>\n",
       "      <td>,Searching and capturing a character using reg...</td>\n",
       "    </tr>\n",
       "    <tr>\n",
       "      <th>1</th>\n",
       "      <td>54312</td>\n",
       "      <td>0</td>\n",
       "      <td>, &lt;p&gt;Yes, of course there is :-) object orient...</td>\n",
       "    </tr>\n",
       "    <tr>\n",
       "      <th>2</th>\n",
       "      <td>7956164</td>\n",
       "      <td>0</td>\n",
       "      <td>, &lt;p&gt;Try waiting for window's &lt;code&gt;load&lt;/code...</td>\n",
       "    </tr>\n",
       "    <tr>\n",
       "      <th>3</th>\n",
       "      <td>3289313</td>\n",
       "      <td>0</td>\n",
       "      <td>, &lt;p&gt;Assuming that's VB.Net, you need to escap...</td>\n",
       "    </tr>\n",
       "    <tr>\n",
       "      <th>4</th>\n",
       "      <td>10314039</td>\n",
       "      <td>0</td>\n",
       "      <td>, &lt;p&gt;Usually when the add-to-cart button does ...</td>\n",
       "    </tr>\n",
       "  </tbody>\n",
       "</table>\n",
       "</div>"
      ],
      "text/plain": [
       "         id  label                                               text\n",
       "0   4186249      1  ,Searching and capturing a character using reg...\n",
       "1     54312      0  , <p>Yes, of course there is :-) object orient...\n",
       "2   7956164      0  , <p>Try waiting for window's <code>load</code...\n",
       "3   3289313      0  , <p>Assuming that's VB.Net, you need to escap...\n",
       "4  10314039      0  , <p>Usually when the add-to-cart button does ..."
      ]
     },
     "execution_count": 3,
     "metadata": {},
     "output_type": "execute_result"
    }
   ],
   "source": [
    "df.head()"
   ]
  },
  {
   "cell_type": "code",
   "execution_count": 4,
   "id": "a594cedc",
   "metadata": {},
   "outputs": [],
   "source": [
    "train_words = df.text.str.lower().values.astype(\"U\")"
   ]
  },
  {
   "cell_type": "code",
   "execution_count": 7,
   "id": "f92d5972",
   "metadata": {},
   "outputs": [
    {
     "data": {
      "text/plain": [
       "array([',searching and capturing a character using regular expressions python <p>while going through one of the problems in <a href=\"http://www.pythonchallenge.com/\" rel=\"nofollow\">python challenge</a>, i am trying to solve it as follows:</p> <p>read the input in a text file with characters as follows:</p> <pre><code>dqheabsamljtmaokmnslzivmenfxqdatqijitwtychyemwqtnxbblxwzngmdqhhxnlhfeyvzxmhsxzd bebaxeapgqpttvqrvxhpeoutisttpdeeugfgmdkkqceyjusuigrogfypzkqgvccdbkrcywhflvpzdmek myupxvgtgsvwgrybkonbeghqhuxhhnyjfwsftfaiwtaombzescsosumwpssjcpllblspigffdlpzzmkz jarrjufhgxdrzywwosrblprasvrupzlaubtdhgzqtvzovhevstbhpitdlluljvvwrwvhpnvzewvyhmps kmvcdehzfzxtwocgvakhhcnozrsbwsiehpenfjarjlwwcvkftlhuvsjcziyfpcyrojxopkxhvucqcuge luwlbcmqpwdvupubrrjzhfexhxsbvljqjvvfegruwrshpekujcpmpisrv....... </code></pre> <p>what i need is to go through this text file and pick all lower case letters that are enclosed by only three upper-case letters on each side.</p> <p>the python script that i wrote to do the above is as follows:</p> <pre><code>import re pattern = re.compile(\"[a-z][a-z]{3}([a-z])[a-z]{3}[a-z]\") f = open(\\'/users/dev/sometext.txt\\',\\'r\\') for line in f: result = pattern.search(line) if result: print result.groups() f.close() </code></pre> <p>the above given script, instead of returning the capture(list of lower case characters), returns all the text blocks that meets the regular expression criteria, like</p> <pre><code>axcsdfghj vcdfetyha nhjuikjho ......... ......... </code></pre> <p>can somebody tell me what exactly i am doing wrong here? and instead of looping through the entire file, is there an alternate way to run the regular expression search on the entire file?</p> <p>thanks</p>',\n",
       "       ', <p>yes, of course there is :-) object oriented techniques are a tool ... if you use the wrong tool for a given job, you will be over complicating things (think spoon when all you need is a knife).</p> <p>to me, i judge \"how much\" by the size and scope of the project. if it is a small project, sometimes it does add too much complexity. if the project is large, you will still be taking on this complexity, but it will pay for itself in ease of maintainability, extensibility, etc.</p>'],\n",
       "      dtype='<U28298')"
      ]
     },
     "execution_count": 7,
     "metadata": {},
     "output_type": "execute_result"
    }
   ],
   "source": [
    "train_words[:2]"
   ]
  },
  {
   "cell_type": "code",
   "execution_count": 5,
   "id": "df948fc9",
   "metadata": {},
   "outputs": [],
   "source": [
    "from sklearn.feature_extraction.text import CountVectorizer,TfidfVectorizer\n",
    "bag_of_words = CountVectorizer(stop_words=\"english\",max_features=3000,ngram_range=(1,2))\n",
    "bag_of_words.fit(train_words)\n",
    "# print(bag_of_words.vocabulary_)\n",
    "train_word_binary_metrix = bag_of_words.transform(train_words)"
   ]
  },
  {
   "cell_type": "code",
   "execution_count": 6,
   "id": "02d9f3be",
   "metadata": {},
   "outputs": [
    {
     "data": {
      "text/plain": [
       "(19857, 3000)"
      ]
     },
     "execution_count": 6,
     "metadata": {},
     "output_type": "execute_result"
    }
   ],
   "source": [
    "train_word_binary_metrix.shape"
   ]
  },
  {
   "cell_type": "code",
   "execution_count": 8,
   "id": "0445e8d4",
   "metadata": {},
   "outputs": [
    {
     "data": {
      "text/plain": [
       "scipy.sparse.csr.csr_matrix"
      ]
     },
     "execution_count": 8,
     "metadata": {},
     "output_type": "execute_result"
    }
   ],
   "source": [
    "type(train_word_binary_metrix)"
   ]
  },
  {
   "cell_type": "code",
   "execution_count": 9,
   "id": "9a575eea",
   "metadata": {},
   "outputs": [
    {
     "data": {
      "text/plain": [
       "<19857x3000 sparse matrix of type '<class 'numpy.int64'>'\n",
       "\twith 815493 stored elements in Compressed Sparse Row format>"
      ]
     },
     "execution_count": 9,
     "metadata": {},
     "output_type": "execute_result"
    }
   ],
   "source": [
    "train_word_binary_metrix"
   ]
  },
  {
   "cell_type": "code",
   "execution_count": 10,
   "id": "459c0d6c",
   "metadata": {},
   "outputs": [],
   "source": [
    "import scipy\n",
    "id_metrix = scipy.sparse.csr_matrix(df.id.astype(np.int64)).T\n",
    "label_metrix = scipy.sparse.csr_matrix(df.label.astype(np.int64)).T"
   ]
  },
  {
   "cell_type": "code",
   "execution_count": 11,
   "id": "c5295fee",
   "metadata": {},
   "outputs": [
    {
     "name": "stdout",
     "output_type": "stream",
     "text": [
      "[[ 4186249]\n",
      " [   54312]\n",
      " [ 7956164]\n",
      " ...\n",
      " [34690192]\n",
      " [26905220]\n",
      " [ 1518781]]\n"
     ]
    }
   ],
   "source": [
    "print(id_metrix.toarray())"
   ]
  },
  {
   "cell_type": "code",
   "execution_count": 12,
   "id": "ff4a60c0",
   "metadata": {},
   "outputs": [
    {
     "name": "stdout",
     "output_type": "stream",
     "text": [
      "[[1]\n",
      " [0]\n",
      " [0]\n",
      " ...\n",
      " [0]\n",
      " [0]\n",
      " [0]]\n"
     ]
    }
   ],
   "source": [
    "print(label_metrix.toarray())"
   ]
  },
  {
   "cell_type": "code",
   "execution_count": null,
   "id": "22a5840a",
   "metadata": {},
   "outputs": [],
   "source": []
  },
  {
   "cell_type": "code",
   "execution_count": 13,
   "id": "4c611526",
   "metadata": {},
   "outputs": [],
   "source": [
    "out = scipy.sparse.hstack([id_metrix,label_metrix,train_word_binary_metrix],format = \"csr\")"
   ]
  },
  {
   "cell_type": "code",
   "execution_count": 14,
   "id": "e067cda7",
   "metadata": {},
   "outputs": [
    {
     "data": {
      "text/plain": [
       "(19857, 3002)"
      ]
     },
     "execution_count": 14,
     "metadata": {},
     "output_type": "execute_result"
    }
   ],
   "source": [
    "out.shape"
   ]
  },
  {
   "cell_type": "code",
   "execution_count": 18,
   "id": "b84a4748",
   "metadata": {},
   "outputs": [
    {
     "name": "stdout",
     "output_type": "stream",
     "text": [
      "[[1]\n",
      " [0]\n",
      " [0]\n",
      " ...\n",
      " [0]\n",
      " [0]\n",
      " [0]]\n"
     ]
    }
   ],
   "source": [
    "print(out[:,1].toarray())"
   ]
  },
  {
   "cell_type": "code",
   "execution_count": 19,
   "id": "b9df09c8",
   "metadata": {},
   "outputs": [
    {
     "name": "stdout",
     "output_type": "stream",
     "text": [
      "[1 0 0 ... 0 0 0]\n"
     ]
    }
   ],
   "source": [
    "print(np.squeeze(out[:,1].toarray()))"
   ]
  },
  {
   "cell_type": "code",
   "execution_count": 24,
   "id": "4a37e819",
   "metadata": {},
   "outputs": [
    {
     "data": {
      "text/plain": [
       "(19857, 3000)"
      ]
     },
     "execution_count": 24,
     "metadata": {},
     "output_type": "execute_result"
    }
   ],
   "source": [
    "out[:,2:].toarray().shape"
   ]
  },
  {
   "cell_type": "code",
   "execution_count": 20,
   "id": "54e3e946",
   "metadata": {},
   "outputs": [
    {
     "name": "stdout",
     "output_type": "stream",
     "text": [
      "  (0, 0)\t4186249\n",
      "  (0, 1)\t1\n",
      "  (0, 349)\t1\n",
      "  (0, 414)\t1\n",
      "  (0, 418)\t3\n",
      "  (0, 450)\t1\n",
      "  (0, 451)\t2\n",
      "  (0, 491)\t1\n",
      "  (0, 492)\t1\n",
      "  (0, 498)\t6\n",
      "  (0, 534)\t1\n",
      "  (0, 558)\t3\n",
      "  (0, 600)\t1\n",
      "  (0, 613)\t1\n",
      "  (0, 631)\t1\n",
      "  (0, 727)\t1\n",
      "  (0, 812)\t1\n",
      "  (0, 879)\t1\n",
      "  (0, 880)\t1\n",
      "  (0, 962)\t2\n",
      "  (0, 993)\t1\n",
      "  (0, 1023)\t2\n",
      "  (0, 1024)\t1\n",
      "  (0, 1062)\t4\n",
      "  (0, 1105)\t3\n",
      "  :\t:\n",
      "  (19856, 1352)\t1\n",
      "  (19856, 1479)\t1\n",
      "  (19856, 1480)\t1\n",
      "  (19856, 1505)\t2\n",
      "  (19856, 1575)\t1\n",
      "  (19856, 1786)\t1\n",
      "  (19856, 1787)\t1\n",
      "  (19856, 1820)\t1\n",
      "  (19856, 1821)\t1\n",
      "  (19856, 1870)\t2\n",
      "  (19856, 1874)\t2\n",
      "  (19856, 1876)\t2\n",
      "  (19856, 2250)\t2\n",
      "  (19856, 2251)\t2\n",
      "  (19856, 2401)\t1\n",
      "  (19856, 2508)\t1\n",
      "  (19856, 2509)\t1\n",
      "  (19856, 2562)\t2\n",
      "  (19856, 2659)\t1\n",
      "  (19856, 2746)\t1\n",
      "  (19856, 2806)\t1\n",
      "  (19856, 2808)\t1\n",
      "  (19856, 2936)\t1\n",
      "  (19856, 2937)\t1\n",
      "  (19856, 2970)\t2\n"
     ]
    }
   ],
   "source": [
    "print(out)"
   ]
  },
  {
   "cell_type": "code",
   "execution_count": 19,
   "id": "2295328a",
   "metadata": {},
   "outputs": [
    {
     "name": "stdout",
     "output_type": "stream",
     "text": [
      "[[ 4186249        1        0 ...        0        0        0]\n",
      " [   54312        0        0 ...        0        0        0]\n",
      " [ 7956164        0        0 ...        0        0        0]\n",
      " ...\n",
      " [40359412        0        0 ...        0        0        0]\n",
      " [34690192        0        0 ...        0        0        0]\n",
      " [26905220        0        0 ...        0        0        0]]\n"
     ]
    }
   ],
   "source": [
    "print(out.toarray())"
   ]
  },
  {
   "cell_type": "code",
   "execution_count": null,
   "id": "f2a8d16b",
   "metadata": {},
   "outputs": [],
   "source": []
  },
  {
   "cell_type": "code",
   "execution_count": null,
   "id": "489c5c31",
   "metadata": {},
   "outputs": [],
   "source": []
  },
  {
   "cell_type": "code",
   "execution_count": null,
   "id": "3613b2ef",
   "metadata": {},
   "outputs": [],
   "source": []
  },
  {
   "cell_type": "code",
   "execution_count": null,
   "id": "b938ef29",
   "metadata": {},
   "outputs": [],
   "source": []
  },
  {
   "cell_type": "code",
   "execution_count": 19,
   "id": "d0663a77",
   "metadata": {},
   "outputs": [],
   "source": [
    "import scipy.sparse as sparse\n"
   ]
  },
  {
   "cell_type": "code",
   "execution_count": null,
   "id": "6373e48a",
   "metadata": {},
   "outputs": [],
   "source": [
    "id = sparse.csr"
   ]
  },
  {
   "cell_type": "code",
   "execution_count": 14,
   "id": "c742c3be",
   "metadata": {},
   "outputs": [],
   "source": [
    "#example\n",
    "from sklearn.feature_extraction.text import CountVectorizer\n",
    "corpus = [\n",
    "'This is the first document.',\n",
    "'This document is the second document.',\n",
    "'And this is the third one.',\n",
    "'Is this the first document?',\n",
    " ]\n",
    "vectorizer = CountVectorizer()\n",
    "X = vectorizer.fit_transform(corpus)"
   ]
  },
  {
   "cell_type": "code",
   "execution_count": 16,
   "id": "38bce74a",
   "metadata": {},
   "outputs": [
    {
     "data": {
      "text/plain": [
       "<4x9 sparse matrix of type '<class 'numpy.int64'>'\n",
       "\twith 21 stored elements in Compressed Sparse Row format>"
      ]
     },
     "execution_count": 16,
     "metadata": {},
     "output_type": "execute_result"
    }
   ],
   "source": [
    "X"
   ]
  },
  {
   "cell_type": "code",
   "execution_count": 21,
   "id": "0645c27c",
   "metadata": {},
   "outputs": [],
   "source": [
    "y = X.toarray()"
   ]
  },
  {
   "cell_type": "code",
   "execution_count": 23,
   "id": "41b07670",
   "metadata": {},
   "outputs": [],
   "source": [
    "z = sparse.csc_matrix(y)"
   ]
  },
  {
   "cell_type": "code",
   "execution_count": 24,
   "id": "9233252f",
   "metadata": {},
   "outputs": [
    {
     "name": "stdout",
     "output_type": "stream",
     "text": [
      "  (2, 0)\t1\n",
      "  (0, 1)\t1\n",
      "  (1, 1)\t2\n",
      "  (3, 1)\t1\n",
      "  (0, 2)\t1\n",
      "  (3, 2)\t1\n",
      "  (0, 3)\t1\n",
      "  (1, 3)\t1\n",
      "  (2, 3)\t1\n",
      "  (3, 3)\t1\n",
      "  (2, 4)\t1\n",
      "  (1, 5)\t1\n",
      "  (0, 6)\t1\n",
      "  (1, 6)\t1\n",
      "  (2, 6)\t1\n",
      "  (3, 6)\t1\n",
      "  (2, 7)\t1\n",
      "  (0, 8)\t1\n",
      "  (1, 8)\t1\n",
      "  (2, 8)\t1\n",
      "  (3, 8)\t1\n"
     ]
    }
   ],
   "source": [
    "print(z)"
   ]
  },
  {
   "cell_type": "code",
   "execution_count": null,
   "id": "3b9fabe2",
   "metadata": {},
   "outputs": [],
   "source": []
  }
 ],
 "metadata": {
  "kernelspec": {
   "display_name": "Python 3",
   "language": "python",
   "name": "python3"
  },
  "language_info": {
   "codemirror_mode": {
    "name": "ipython",
    "version": 3
   },
   "file_extension": ".py",
   "mimetype": "text/x-python",
   "name": "python",
   "nbconvert_exporter": "python",
   "pygments_lexer": "ipython3",
   "version": "3.7.12"
  }
 },
 "nbformat": 4,
 "nbformat_minor": 5
}
